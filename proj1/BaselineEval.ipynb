{
 "cells": [
  {
   "cell_type": "code",
   "execution_count": 49,
   "metadata": {},
   "outputs": [
    {
     "name": "stdout",
     "output_type": "stream",
     "text": [
      "The autoreload extension is already loaded. To reload it, use:\n",
      "  %reload_ext autoreload\n"
     ]
    }
   ],
   "source": [
    "import pickle\n",
    "import torch\n",
    "from torch import nn\n",
    "from torch.nn import functional as F\n",
    "from torch import optim\n",
    "from dlc_practical_prologue import *\n",
    "from projet1_helpers import *\n",
    "import baseline as Baseline\n",
    "import matplotlib.pyplot as plt\n",
    "\n",
    "%load_ext autoreload\n",
    "%autoreload 2"
   ]
  },
  {
   "cell_type": "markdown",
   "metadata": {},
   "source": [
    "## Baseline\n",
    "Use basic mlp"
   ]
  },
  {
   "cell_type": "code",
   "execution_count": 56,
   "metadata": {},
   "outputs": [],
   "source": [
    "with open(f'data.p', 'rb') as f:\n",
    "    train_input, train_target, train_classes,val_input,test_input,val_target,test_target,val_classes,test_classes = pickle.load(f)"
   ]
  },
  {
   "cell_type": "code",
   "execution_count": 58,
   "metadata": {},
   "outputs": [
    {
     "name": "stdout",
     "output_type": "stream",
     "text": [
      "--------------------------------------------------  \n",
      " Iteration 0 \n",
      " \n",
      "Baseline Training accuracy is 1.0 \n",
      "Baseline Validation accuracy is 0.812 \n",
      "--------------------------------------------------  \n",
      " Iteration 1 \n",
      " \n",
      "Baseline Training accuracy is 1.0 \n",
      "Baseline Validation accuracy is 0.796 \n",
      "--------------------------------------------------  \n",
      " Iteration 2 \n",
      " \n",
      "Baseline Training accuracy is 1.0 \n",
      "Baseline Validation accuracy is 0.794 \n",
      "--------------------------------------------------  \n",
      " Iteration 3 \n",
      " \n",
      "Baseline Training accuracy is 1.0 \n",
      "Baseline Validation accuracy is 0.808 \n",
      "--------------------------------------------------  \n",
      " Iteration 4 \n",
      " \n",
      "Baseline Training accuracy is 1.0 \n",
      "Baseline Validation accuracy is 0.802 \n",
      "--------------------------------------------------  \n",
      " Iteration 5 \n",
      " \n",
      "Baseline Training accuracy is 1.0 \n",
      "Baseline Validation accuracy is 0.798 \n",
      "--------------------------------------------------  \n",
      " Iteration 6 \n",
      " \n",
      "Baseline Training accuracy is 1.0 \n",
      "Baseline Validation accuracy is 0.79 \n",
      "--------------------------------------------------  \n",
      " Iteration 7 \n",
      " \n",
      "Baseline Training accuracy is 1.0 \n",
      "Baseline Validation accuracy is 0.774 \n",
      "--------------------------------------------------  \n",
      " Iteration 8 \n",
      " \n",
      "Baseline Training accuracy is 1.0 \n",
      "Baseline Validation accuracy is 0.784 \n",
      "--------------------------------------------------  \n",
      " Iteration 9 \n",
      " \n",
      "Baseline Training accuracy is 1.0 \n",
      "Baseline Validation accuracy is 0.786 \n",
      "--------------------------------------------------  \n",
      " Iteration 10 \n",
      " \n",
      "Baseline Training accuracy is 1.0 \n",
      "Baseline Validation accuracy is 0.828 \n",
      "--------------------------------------------------  \n",
      " Iteration 11 \n",
      " \n",
      "Baseline Training accuracy is 1.0 \n",
      "Baseline Validation accuracy is 0.788 \n",
      "--------------------------------------------------  \n",
      " Iteration 12 \n",
      " \n",
      "Baseline Training accuracy is 1.0 \n",
      "Baseline Validation accuracy is 0.792 \n",
      "--------------------------------------------------  \n",
      " Iteration 13 \n",
      " \n",
      "Baseline Training accuracy is 1.0 \n",
      "Baseline Validation accuracy is 0.792 \n",
      "--------------------------------------------------  \n",
      " Iteration 14 \n",
      " \n",
      "Baseline Training accuracy is 1.0 \n",
      "Baseline Validation accuracy is 0.806 \n"
     ]
    }
   ],
   "source": [
    "torch.manual_seed(42)\n",
    "losses, losses_val, accuracies_train, accuracies_test, accuracies_val  = Baseline.train_all(train_input, train_target, \n",
    "                                                                                            train_classes,val_input,\n",
    "                                                                                            val_target, val_classes, \n",
    "                                                                                            test_input, test_target, test_classes)"
   ]
  },
  {
   "cell_type": "code",
   "execution_count": 60,
   "metadata": {},
   "outputs": [
    {
     "data": {
      "image/png": "[encoded data removed]",
      "text/plain": [
       "<Figure size 432x288 with 1 Axes>"
      ]
     },
     "metadata": {
      "needs_background": "light"
     },
     "output_type": "display_data"
    }
   ],
   "source": [
    "plt.figure()\n",
    "plotloss(losses.T/10,color= 'b')\n",
    "plotloss(losses_val.T,color= 'c')\n",
    "plt.show()"
   ]
  },
  {
   "cell_type": "markdown",
   "metadata": {},
   "source": [
    "### Evaluation of model performance"
   ]
  },
  {
   "cell_type": "code",
   "execution_count": 66,
   "metadata": {},
   "outputs": [
    {
     "name": "stdout",
     "output_type": "stream",
     "text": [
      "The training accuracy of the model is 1.0000 ± 0.0000 \n"
     ]
    }
   ],
   "source": [
    "accs_train = torch.Tensor(accuracies_train)\n",
    "print(f\"The training accuracy of the model is {accs_train.mean():.4f} ± {accs_train.var():.4f} \")"
   ]
  },
  {
   "cell_type": "code",
   "execution_count": 67,
   "metadata": {},
   "outputs": [
    {
     "name": "stdout",
     "output_type": "stream",
     "text": [
      "The test accuracy of the model is 0.7967 ± 0.0002 \n"
     ]
    }
   ],
   "source": [
    "accs_val = torch.Tensor(accuracies_val)\n",
    "print(f\"The test accuracy of the model is {accs_val.mean():.4f} ± {accs_val.var():.4f} \")"
   ]
  },
  {
   "cell_type": "code",
   "execution_count": 68,
   "metadata": {},
   "outputs": [
    {
     "name": "stdout",
     "output_type": "stream",
     "text": [
      "The test accuracy of the model is 0.8060 ± 0.0003 \n"
     ]
    }
   ],
   "source": [
    "accs_test = torch.Tensor(accuracies_test)\n",
    "print(f\"The test accuracy of the model is {accs_test.mean():.4f} ± {accs_test.var():.4f} \")"
   ]
  },
  {
   "cell_type": "code",
   "execution_count": 69,
   "metadata": {},
   "outputs": [
    {
     "data": {
      "image/png": "[encoded data removed]",
      "text/plain": [
       "<Figure size 576x576 with 1 Axes>"
      ]
     },
     "metadata": {
      "needs_background": "light"
     },
     "output_type": "display_data"
    }
   ],
   "source": [
    "plot_performance(accuracies_train,accuracies_test)"
   ]
  },
  {
   "cell_type": "code",
   "execution_count": 70,
   "metadata": {},
   "outputs": [],
   "source": [
    "with open(f'produced/baseline_accuracy.p', 'wb') as f:\n",
    "    pickle.dump(accuracies_test ,f)"
   ]
  },
  {
   "cell_type": "code",
   "execution_count": null,
   "metadata": {},
   "outputs": [],
   "source": []
  }
 ],
 "metadata": {
  "kernelspec": {
   "display_name": "Python 3",
   "language": "python",
   "name": "python3"
  },
  "language_info": {
   "codemirror_mode": {
    "name": "ipython",
    "version": 3
   },
   "file_extension": ".py",
   "mimetype": "text/x-python",
   "name": "python",
   "nbconvert_exporter": "python",
   "pygments_lexer": "ipython3",
   "version": "3.6.10"
  }
 },
 "nbformat": 4,
 "nbformat_minor": 4
}
