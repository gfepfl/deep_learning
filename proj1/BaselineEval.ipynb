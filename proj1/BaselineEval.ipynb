{
 "cells": [
  {
   "cell_type": "code",
   "execution_count": 2,
   "metadata": {
    "pycharm": {
     "is_executing": false
    }
   },
   "outputs": [],
   "source": [
    "import torch\n",
    "from torch import nn\n",
    "from torch.nn import functional as F\n",
    "from torch import optim\n",
    "from dlc_practical_prologue import *\n",
    "from projet1_helpers import *\n",
    "import baseline\n",
    "import matplotlib.pyplot as plt\n",
    "\n",
    "%load_ext autoreload\n",
    "%autoreload 2"
   ]
  },
  {
   "cell_type": "code",
   "execution_count": 3,
   "metadata": {
    "pycharm": {
     "is_executing": false
    }
   },
   "outputs": [
    {
     "ename": "NameError",
     "evalue": "name 'train_input' is not defined",
     "traceback": [
      "\u001b[0;31m---------------------------------------------------------------------------\u001b[0m",
      "\u001b[0;31mNameError\u001b[0m                                 Traceback (most recent call last)",
      "\u001b[0;32m<ipython-input-3-65b43fc16ca1>\u001b[0m in \u001b[0;36m<module>\u001b[0;34m\u001b[0m\n\u001b[0;32m----> 1\u001b[0;31m \u001b[0mtrain_input\u001b[0m\u001b[0;34m.\u001b[0m\u001b[0mshape\u001b[0m\u001b[0;34m\u001b[0m\u001b[0;34m\u001b[0m\u001b[0m\n\u001b[0m\u001b[1;32m      2\u001b[0m \u001b[0;34m\u001b[0m\u001b[0m\n",
      "\u001b[0;31mNameError\u001b[0m: name 'train_input' is not defined"
     ],
     "output_type": "error"
    }
   ],
   "source": [
    "train_input.shape"
   ]
  },
  {
   "cell_type": "markdown",
   "metadata": {},
   "source": [
    "## Baseline\n",
    "Use basic mlp"
   ]
  },
  {
   "cell_type": "code",
   "execution_count": null,
   "metadata": {
    "pycharm": {
     "is_executing": true
    }
   },
   "outputs": [
    {
     "name": "stdout",
     "text": [
      "--------------------------------------------------  \n Iteration 0 \n \n",
      "Baseline Training accuracy is 0.995 \nBaseline Test accuracy is 0.759 \n--------------------------------------------------  \n Iteration 1 \n \n",
      "Baseline Training accuracy is 0.998 \nBaseline Test accuracy is 0.745 \n--------------------------------------------------  \n Iteration 2 \n \n",
      "Baseline Training accuracy is 1.0 \nBaseline Test accuracy is 0.706 \n--------------------------------------------------  \n Iteration 3 \n \n",
      "Baseline Training accuracy is 1.0 \nBaseline Test accuracy is 0.747 \n--------------------------------------------------  \n Iteration 4 \n \n",
      "Baseline Training accuracy is 0.999 \nBaseline Test accuracy is 0.756 \n--------------------------------------------------  \n Iteration 5 \n \n",
      "Baseline Training accuracy is 0.998 \nBaseline Test accuracy is 0.721 \n--------------------------------------------------  \n Iteration 6 \n \n"
     ],
     "output_type": "stream"
    }
   ],
   "source": [
    "accuracies = []\n",
    "mini_batch_size = 100\n",
    "for i in range(15):\n",
    "    print(\"-\"*50,f\" \\n Iteration {i} \\n \")\n",
    "    # Generate the pairs\n",
    "    train_input, train_target, train_classes, test_input, test_target, test_classes = generate_pair_sets(1000)\n",
    "    \n",
    "    # convert to one hot\n",
    "    train_target = convert_to_one_hot_labels(train_input,train_target)\n",
    "    test_target = convert_to_one_hot_labels(test_input,test_target)\n",
    "    # flatten\n",
    "    train_input = train_input.view(train_input.size(0), -1)\n",
    "    test_input = test_input.view(test_input.size(0), -1)\n",
    "    \n",
    "    # define the model\n",
    "    model =  baseline.MLP() \n",
    "    \n",
    "    # train model\n",
    "    for k in range(20):\n",
    "        baseline.train(model, train_input, train_target.float(), mini_batch_size)\n",
    "    print(f\"Baseline Training accuracy is {baseline.accuracy(model,train_input,train_target)} \")\n",
    "    test_accuracy = baseline.accuracy(model,test_input,test_target)\n",
    "    accuracies.append(test_accuracy )\n",
    "    print(f\"Baseline Test accuracy is {test_accuracy} \")"
   ]
  },
  {
   "cell_type": "markdown",
   "metadata": {},
   "source": [
    "### Evaluation of model performance"
   ]
  },
  {
   "cell_type": "code",
   "execution_count": 7,
   "metadata": {
    "pycharm": {
     "is_executing": false
    }
   },
   "outputs": [
    {
     "name": "stdout",
     "text": [
      "The accuracy of the model is 0.7362 ± 0.0002 \n"
     ],
     "output_type": "stream"
    }
   ],
   "source": [
    "accs = torch.Tensor(accuracies)\n",
    "print(f\"The accuracy of the model is {accs.mean():.4f} ± {accs.var():.4f} \")"
   ]
  },
  {
   "cell_type": "code",
   "execution_count": 8,
   "metadata": {
    "pycharm": {
     "is_executing": false
    }
   },
   "outputs": [
    {
     "data": {
      "image/png": "[encoded data removed]",
      "text/plain": "<Figure size 432x288 with 1 Axes>"
     },
     "metadata": {
      "needs_background": "light"
     },
     "output_type": "display_data"
    }
   ],
   "source": [
    "plot_performance(accuracies,15)"
   ]
  },
  {
   "cell_type": "code",
   "execution_count": null,
   "metadata": {},
   "outputs": [],
   "source": []
  }
 ],
 "metadata": {
  "kernelspec": {
   "name": "pycharm-768c28ef",
   "language": "python",
   "display_name": "PyCharm (Project)"
  },
  "language_info": {
   "codemirror_mode": {
    "name": "ipython",
    "version": 3
   },
   "file_extension": ".py",
   "mimetype": "text/x-python",
   "name": "python",
   "nbconvert_exporter": "python",
   "pygments_lexer": "ipython3",
   "version": "3.6.10"
  },
  "pycharm": {
   "stem_cell": {
    "cell_type": "raw",
    "source": [],
    "metadata": {
     "collapsed": false
    }
   }
  }
 },
 "nbformat": 4,
 "nbformat_minor": 4
}