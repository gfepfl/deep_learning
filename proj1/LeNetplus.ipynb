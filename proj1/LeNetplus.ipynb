{
 "cells": [
  {
   "cell_type": "code",
   "execution_count": 25,
   "metadata": {},
   "outputs": [],
   "source": [
    "import torch\n",
    "from torch import nn\n",
    "from torch.nn import functional as F\n",
    "from torch import optim\n",
    "from dlc_practical_prologue import *\n",
    "from projet1_helpers import *"
   ]
  },
  {
   "cell_type": "code",
   "execution_count": 26,
   "metadata": {},
   "outputs": [],
   "source": [
    "class LeNetplus(nn.Module):\n",
    "    \"\"\" Modified LeNet. Takes input format 1 x 14 x 14 and outputs 10 classes one-hot encoded\"\"\"\n",
    "    def __init__(self):\n",
    "        super(LeNetplus, self).__init__()\n",
    "        self.features = nn.Sequential(\n",
    "            nn.Conv2d(2, 12, kernel_size = 3),\n",
    "            nn.ReLU(),\n",
    "            nn.MaxPool2d(2),\n",
    "            nn.Conv2d(12, 32, kernel_size = 3),\n",
    "            nn.ReLU(),\n",
    "            nn.MaxPool2d(2)\n",
    ")\n",
    "        self.classifier = nn.Sequential(\n",
    "            nn.Linear(128, 84),\n",
    "            nn.ReLU(inplace=True),\n",
    "            nn.Linear(84, 60),\n",
    "            nn.ReLU(inplace=True),\n",
    "            nn.Linear(60, 10),\n",
    "            nn.ReLU(inplace=True),\n",
    "            nn.Linear(10, 5),\n",
    "            nn.ReLU(inplace=True),\n",
    "            nn.Linear(5, 2)\n",
    ")\n",
    "    def forward(self, x):\n",
    "        x = self.features(x)\n",
    "        x = x.view(x.size(0), -1)\n",
    "        x = self.classifier(x)\n",
    "        return x\n",
    "    "
   ]
  },
  {
   "cell_type": "code",
   "execution_count": 27,
   "metadata": {},
   "outputs": [
    {
     "name": "stdout",
     "output_type": "stream",
     "text": [
      "--------------------------------------------------  \n",
      " Iteration 0 \n",
      " \n",
      "Baseline Training accuracy is 0.966 \n",
      "Baseline Test accuracy is 0.792 \n",
      "--------------------------------------------------  \n",
      " Iteration 1 \n",
      " \n",
      "Baseline Training accuracy is 0.942 \n",
      "Baseline Test accuracy is 0.735 \n",
      "--------------------------------------------------  \n",
      " Iteration 2 \n",
      " \n",
      "Baseline Training accuracy is 0.933 \n",
      "Baseline Test accuracy is 0.726 \n",
      "--------------------------------------------------  \n",
      " Iteration 3 \n",
      " \n",
      "Baseline Training accuracy is 0.975 \n",
      "Baseline Test accuracy is 0.737 \n",
      "--------------------------------------------------  \n",
      " Iteration 4 \n",
      " \n",
      "Baseline Training accuracy is 0.936 \n",
      "Baseline Test accuracy is 0.724 \n",
      "--------------------------------------------------  \n",
      " Iteration 5 \n",
      " \n",
      "Baseline Training accuracy is 0.952 \n",
      "Baseline Test accuracy is 0.741 \n",
      "--------------------------------------------------  \n",
      " Iteration 6 \n",
      " \n",
      "Baseline Training accuracy is 0.951 \n",
      "Baseline Test accuracy is 0.733 \n",
      "--------------------------------------------------  \n",
      " Iteration 7 \n",
      " \n",
      "Baseline Training accuracy is 0.982 \n",
      "Baseline Test accuracy is 0.757 \n",
      "--------------------------------------------------  \n",
      " Iteration 8 \n",
      " \n",
      "Baseline Training accuracy is 0.95 \n",
      "Baseline Test accuracy is 0.746 \n",
      "--------------------------------------------------  \n",
      " Iteration 9 \n",
      " \n",
      "Baseline Training accuracy is 0.983 \n",
      "Baseline Test accuracy is 0.75 \n",
      "--------------------------------------------------  \n",
      " Iteration 10 \n",
      " \n",
      "Baseline Training accuracy is 0.971 \n",
      "Baseline Test accuracy is 0.779 \n",
      "--------------------------------------------------  \n",
      " Iteration 11 \n",
      " \n",
      "Baseline Training accuracy is 0.864 \n",
      "Baseline Test accuracy is 0.717 \n",
      "--------------------------------------------------  \n",
      " Iteration 12 \n",
      " \n",
      "Baseline Training accuracy is 0.874 \n",
      "Baseline Test accuracy is 0.774 \n",
      "--------------------------------------------------  \n",
      " Iteration 13 \n",
      " \n",
      "Baseline Training accuracy is 0.794 \n",
      "Baseline Test accuracy is 0.665 \n",
      "--------------------------------------------------  \n",
      " Iteration 14 \n",
      " \n",
      "Baseline Training accuracy is 0.983 \n",
      "Baseline Test accuracy is 0.758 \n"
     ]
    }
   ],
   "source": [
    "Accuracies = []\n",
    "mini_batch_size = 100\n",
    "for i in range(15):\n",
    "    print(\"-\"*50,f\" \\n Iteration {i} \\n \")\n",
    "    # Generate the pairs\n",
    "    train_input, train_target, train_classes, test_input, test_target, test_classes = generate_pair_sets(1000)\n",
    "\n",
    "    train_onehot = convert_to_one_hot_labels(train_input,train_target)\n",
    "    test_onehot = convert_to_one_hot_labels(test_input,test_target)\n",
    "\n",
    "    # define the model\n",
    "    model = LeNetplus() \n",
    "\n",
    "    # train model\n",
    "    for k in range(25):\n",
    "        train_model(model, train_input, train_onehot, mini_batch_size)\n",
    "    print(f\"Baseline Training accuracy is {accuracy_one_hot( model(train_input), train_onehot)} \")\n",
    "    test_accuracy = accuracy_one_hot(model(test_input), test_onehot)\n",
    "    Accuracies.append(test_accuracy )\n",
    "    print(f\"Baseline Test accuracy is {test_accuracy} \")"
   ]
  },
  {
   "cell_type": "markdown",
   "metadata": {},
   "source": [
    "### Evaluation of model performance"
   ]
  },
  {
   "cell_type": "code",
   "execution_count": 29,
   "metadata": {},
   "outputs": [
    {
     "name": "stdout",
     "output_type": "stream",
     "text": [
      "The accuracy of the model is 0.7423 ± 0.0009 \n"
     ]
    }
   ],
   "source": [
    "accs = torch.Tensor(Accuracies)\n",
    "print(f\"The accuracy of the model is {accs.mean():.4f} ± {accs.var():.4f} \")"
   ]
  },
  {
   "cell_type": "code",
   "execution_count": null,
   "metadata": {},
   "outputs": [],
   "source": []
  }
 ],
 "metadata": {
  "kernelspec": {
   "display_name": "Python 3",
   "language": "python",
   "name": "python3"
  },
  "language_info": {
   "codemirror_mode": {
    "name": "ipython",
    "version": 3
   },
   "file_extension": ".py",
   "mimetype": "text/x-python",
   "name": "python",
   "nbconvert_exporter": "python",
   "pygments_lexer": "ipython3",
   "version": "3.6.10"
  }
 },
 "nbformat": 4,
 "nbformat_minor": 4
}
