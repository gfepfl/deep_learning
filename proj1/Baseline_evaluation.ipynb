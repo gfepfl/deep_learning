{
 "cells": [
  {
   "cell_type": "code",
   "execution_count": 1,
   "metadata": {},
   "outputs": [],
   "source": [
    "import torch\n",
    "from torch import nn\n",
    "from torch.nn import functional as F\n",
    "from torch import optim\n",
    "from dlc_practical_prologue import *\n",
    "from projet1_helpers import *\n",
    "import baseline\n",
    "import matplotlib.pyplot as plt\n",
    "\n",
    "%load_ext autoreload\n",
    "%autoreload 2\n"
   ]
  },
  {
   "cell_type": "markdown",
   "metadata": {},
   "source": [
    "> 0 if first > second else 1"
   ]
  },
  {
   "cell_type": "markdown",
   "metadata": {},
   "source": [
    "## Baseline : A Naive Methods"
   ]
  },
  {
   "cell_type": "markdown",
   "metadata": {},
   "source": [
    "A first methods is two predict the class of the two digit and then mannualy compare them. To do this we use a adapteded version of LeNet."
   ]
  },
  {
   "cell_type": "code",
   "execution_count": 3,
   "metadata": {},
   "outputs": [
    {
     "name": "stdout",
     "output_type": "stream",
     "text": [
      "--------------------------------------------------  \n",
      " Iteration 0 \n",
      " \n",
      "Baseline Training accuracy is 0.86 \n",
      "Baseline Test accuracy is 0.849 \n",
      "--------------------------------------------------  \n",
      " Iteration 1 \n",
      " \n",
      "Baseline Training accuracy is 0.935 \n",
      "Baseline Test accuracy is 0.915 \n",
      "--------------------------------------------------  \n",
      " Iteration 2 \n",
      " \n",
      "Baseline Training accuracy is 0.944 \n",
      "Baseline Test accuracy is 0.899 \n",
      "--------------------------------------------------  \n",
      " Iteration 3 \n",
      " \n",
      "Baseline Training accuracy is 0.925 \n",
      "Baseline Test accuracy is 0.898 \n",
      "--------------------------------------------------  \n",
      " Iteration 4 \n",
      " \n",
      "Baseline Training accuracy is 0.937 \n",
      "Baseline Test accuracy is 0.904 \n",
      "--------------------------------------------------  \n",
      " Iteration 5 \n",
      " \n",
      "Baseline Training accuracy is 0.922 \n",
      "Baseline Test accuracy is 0.901 \n",
      "--------------------------------------------------  \n",
      " Iteration 6 \n",
      " \n",
      "Baseline Training accuracy is 0.922 \n",
      "Baseline Test accuracy is 0.882 \n",
      "--------------------------------------------------  \n",
      " Iteration 7 \n",
      " \n",
      "Baseline Training accuracy is 0.943 \n",
      "Baseline Test accuracy is 0.897 \n",
      "--------------------------------------------------  \n",
      " Iteration 8 \n",
      " \n",
      "Baseline Training accuracy is 0.923 \n",
      "Baseline Test accuracy is 0.911 \n",
      "--------------------------------------------------  \n",
      " Iteration 9 \n",
      " \n",
      "Baseline Training accuracy is 0.92 \n",
      "Baseline Test accuracy is 0.908 \n",
      "--------------------------------------------------  \n",
      " Iteration 10 \n",
      " \n",
      "Baseline Training accuracy is 0.919 \n",
      "Baseline Test accuracy is 0.874 \n",
      "--------------------------------------------------  \n",
      " Iteration 11 \n",
      " \n",
      "Baseline Training accuracy is 0.927 \n",
      "Baseline Test accuracy is 0.896 \n",
      "--------------------------------------------------  \n",
      " Iteration 12 \n",
      " \n",
      "Baseline Training accuracy is 0.903 \n",
      "Baseline Test accuracy is 0.856 \n",
      "--------------------------------------------------  \n",
      " Iteration 13 \n",
      " \n",
      "Baseline Training accuracy is 0.939 \n",
      "Baseline Test accuracy is 0.913 \n",
      "--------------------------------------------------  \n",
      " Iteration 14 \n",
      " \n",
      "Baseline Training accuracy is 0.923 \n",
      "Baseline Test accuracy is 0.903 \n"
     ]
    }
   ],
   "source": [
    "Accuracies = []\n",
    "mini_batch_size = 100\n",
    "for i in range(15):\n",
    "    print(\"-\"*50,f\" \\n Iteration {i} \\n \")\n",
    "    # Generate the pairs\n",
    "    train_input, train_target, train_classes, test_input, test_target, test_classes = generate_pair_sets(1000)\n",
    "    \n",
    "    # Split the pairs\n",
    "    train_input_long = torch.cat((train_input[:,0,:,:], train_input[:,1,:,:]), 0).unsqueeze(1)\n",
    "    test_input_long = torch.cat((test_input[:,0,:,:], test_input[:,1,:,:] ), 0).unsqueeze(1)\n",
    "\n",
    "    # One-Hot encode the classes\n",
    "    target = torch.cat((train_classes[:,0],train_classes[:,1] ), 0)\n",
    "    target_one_hot = convert_to_one_hot_labels(train_input_long, target)\n",
    "    \n",
    "    # define the model\n",
    "    model = baseline.LeNetLike() \n",
    "    \n",
    "    # train model\n",
    "    for k in range(20):\n",
    "        train_model(model, train_input_long, target_one_hot, 100)\n",
    "    print(f\"Baseline Training accuracy is {baseline.accuracy(model,train_input_long,train_target)} \")\n",
    "    test_accuracy = baseline.accuracy(model,test_input_long,test_target)\n",
    "    Accuracies.append(test_accuracy )\n",
    "    print(f\"Baseline Test accuracy is {test_accuracy} \")"
   ]
  },
  {
   "cell_type": "markdown",
   "metadata": {},
   "source": [
    "### Evaluation of model performance"
   ]
  },
  {
   "cell_type": "code",
   "execution_count": 19,
   "metadata": {},
   "outputs": [
    {
     "name": "stdout",
     "output_type": "stream",
     "text": [
      "The accuracy of the model is 0.8937 ± 0.0004 \n"
     ]
    }
   ],
   "source": [
    "accs = torch.Tensor(Accuracies)\n",
    "print(f\"The accuracy of the model is {accs.mean():.4f} ± {accs.var():.4f} \")"
   ]
  }
 ],
 "metadata": {
  "kernelspec": {
   "display_name": "Python 3",
   "language": "python",
   "name": "python3"
  },
  "language_info": {
   "codemirror_mode": {
    "name": "ipython",
    "version": 3
   },
   "file_extension": ".py",
   "mimetype": "text/x-python",
   "name": "python",
   "nbconvert_exporter": "python",
   "pygments_lexer": "ipython3",
   "version": "3.6.10"
  }
 },
 "nbformat": 4,
 "nbformat_minor": 4
}
