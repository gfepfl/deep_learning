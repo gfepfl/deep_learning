{
 "cells": [
  {
   "cell_type": "code",
   "execution_count": 1,
   "metadata": {},
   "outputs": [],
   "source": [
    "import torch\n",
    "from torch import nn\n",
    "from torch.nn import functional as F\n",
    "from torch import optim\n",
    "from dlc_practical_prologue import *\n",
    "from projet1_helpers import *\n",
    "\n",
    "import CNN\n",
    "\n",
    "import matplotlib.pyplot as plt\n",
    "import numpy as np\n",
    "\n",
    "%load_ext autoreload\n",
    "%autoreload 2"
   ]
  },
  {
   "cell_type": "markdown",
   "metadata": {},
   "source": [
    "## CNN\n",
    "\n",
    "Use a simple convolutional neural network whose architecture is similar to the classical LeNet. "
   ]
  },
  {
   "cell_type": "code",
   "execution_count": 22,
   "metadata": {},
   "outputs": [
    {
     "name": "stdout",
     "output_type": "stream",
     "text": [
      "--------------------------------------------------  \n",
      " Iteration 0 \n",
      " \n",
      "Training accuracy is 0.997 \n",
      "Test accuracy is 0.802 \n",
      "--------------------------------------------------  \n",
      " Iteration 1 \n",
      " \n",
      "Training accuracy is 0.986 \n",
      "Test accuracy is 0.797 \n",
      "--------------------------------------------------  \n",
      " Iteration 2 \n",
      " \n",
      "Training accuracy is 0.998 \n",
      "Test accuracy is 0.792 \n",
      "--------------------------------------------------  \n",
      " Iteration 3 \n",
      " \n",
      "Training accuracy is 0.995 \n",
      "Test accuracy is 0.811 \n",
      "--------------------------------------------------  \n",
      " Iteration 4 \n",
      " \n",
      "Training accuracy is 0.997 \n",
      "Test accuracy is 0.796 \n",
      "--------------------------------------------------  \n",
      " Iteration 5 \n",
      " \n",
      "Training accuracy is 0.994 \n",
      "Test accuracy is 0.801 \n",
      "--------------------------------------------------  \n",
      " Iteration 6 \n",
      " \n",
      "Training accuracy is 0.994 \n",
      "Test accuracy is 0.8 \n",
      "--------------------------------------------------  \n",
      " Iteration 7 \n",
      " \n",
      "Training accuracy is 0.999 \n",
      "Test accuracy is 0.791 \n",
      "--------------------------------------------------  \n",
      " Iteration 8 \n",
      " \n",
      "Training accuracy is 0.997 \n",
      "Test accuracy is 0.82 \n",
      "--------------------------------------------------  \n",
      " Iteration 9 \n",
      " \n",
      "Training accuracy is 0.992 \n",
      "Test accuracy is 0.793 \n",
      "--------------------------------------------------  \n",
      " Iteration 10 \n",
      " \n",
      "Training accuracy is 0.998 \n",
      "Test accuracy is 0.796 \n",
      "--------------------------------------------------  \n",
      " Iteration 11 \n",
      " \n",
      "Training accuracy is 0.997 \n",
      "Test accuracy is 0.775 \n",
      "--------------------------------------------------  \n",
      " Iteration 12 \n",
      " \n",
      "Training accuracy is 0.996 \n",
      "Test accuracy is 0.783 \n",
      "--------------------------------------------------  \n",
      " Iteration 13 \n",
      " \n",
      "Training accuracy is 0.999 \n",
      "Test accuracy is 0.8 \n",
      "--------------------------------------------------  \n",
      " Iteration 14 \n",
      " \n",
      "Training accuracy is 0.994 \n",
      "Test accuracy is 0.804 \n"
     ]
    }
   ],
   "source": [
    "all_classified = []\n",
    "misclassified = []\n",
    "accuracies_train = []\n",
    "accuracies_test = []\n",
    "mini_batch_size = 100\n",
    "for i in range(15):\n",
    "    print(\"-\"*50,f\" \\n Iteration {i} \\n \")\n",
    "    # Generate the pairs\n",
    "    train_input, train_target, train_classes, test_input, test_target, test_classes = generate_pair_sets(1000)\n",
    "\n",
    "    train_onehot = convert_to_one_hot_labels(train_input,train_target)\n",
    "    test_onehot = convert_to_one_hot_labels(test_input,test_target)\n",
    "\n",
    "    # define the model\n",
    "    model = CNN.CNN() \n",
    "\n",
    "    # train model\n",
    "    for k in range(25):\n",
    "        CNN.train(model, train_input, train_target, mini_batch_size)\n",
    "    \n",
    "    train_accuracy = CNN.accuracy(model(train_input),train_onehot)\n",
    "    test_accuracy = CNN.accuracy(model(test_input),test_onehot)\n",
    "    \n",
    "    misclass = CNN.get_mis_class(model,test_input,test_target,test_classes)\n",
    "    [all_classified.append(x) for x in test_classes]\n",
    "    [misclassified.append(x) for x in misclass ]\n",
    "    accuracies_train.append(train_accuracy )\n",
    "    accuracies_test.append(test_accuracy )\n",
    "    print(f\"Training accuracy is {train_accuracy} \")\n",
    "    print(f\"Test accuracy is {test_accuracy} \")"
   ]
  },
  {
   "cell_type": "markdown",
   "metadata": {},
   "source": [
    "### Evaluation of model performance"
   ]
  },
  {
   "cell_type": "code",
   "execution_count": 23,
   "metadata": {},
   "outputs": [
    {
     "name": "stdout",
     "output_type": "stream",
     "text": [
      "The training accuracy of the model is 0.9955 ± 0.0000 \n"
     ]
    }
   ],
   "source": [
    "accs_train = torch.Tensor(accuracies_train)\n",
    "print(f\"The training accuracy of the model is {accs_train.mean():.4f} ± {accs_train.var():.4f} \")"
   ]
  },
  {
   "cell_type": "code",
   "execution_count": 24,
   "metadata": {},
   "outputs": [
    {
     "name": "stdout",
     "output_type": "stream",
     "text": [
      "The test accuracy of the model is 0.7974 ± 0.0001 \n"
     ]
    }
   ],
   "source": [
    "accs_test = torch.Tensor(accuracies_test)\n",
    "print(f\"The test accuracy of the model is {accs_test.mean():.4f} ± {accs_test.var():.4f} \")"
   ]
  },
  {
   "cell_type": "code",
   "execution_count": 25,
   "metadata": {},
   "outputs": [
    {
     "data": {
      "image/png": "[encoded data removed]",
      "text/plain": [
       "<Figure size 576x576 with 1 Axes>"
      ]
     },
     "metadata": {
      "needs_background": "light"
     },
     "output_type": "display_data"
    }
   ],
   "source": [
    "plot_performance(accuracies_train,accuracies_test)"
   ]
  },
  {
   "cell_type": "code",
   "execution_count": 26,
   "metadata": {},
   "outputs": [
    {
     "data": {
      "image/png": "[encoded data removed]",
      "text/plain": [
       "<Figure size 432x288 with 2 Axes>"
      ]
     },
     "metadata": {
      "needs_background": "light"
     },
     "output_type": "display_data"
    }
   ],
   "source": [
    "all_classified = np.stack(all_classified)\n",
    "misclassified = np.stack(misclassified)\n",
    "plot_heatmap(misclassified,all_classified)"
   ]
  },
  {
   "cell_type": "code",
   "execution_count": null,
   "metadata": {},
   "outputs": [],
   "source": []
  }
 ],
 "metadata": {
  "kernelspec": {
   "display_name": "Python 3",
   "language": "python",
   "name": "python3"
  },
  "language_info": {
   "codemirror_mode": {
    "name": "ipython",
    "version": 3
   },
   "file_extension": ".py",
   "mimetype": "text/x-python",
   "name": "python",
   "nbconvert_exporter": "python",
   "pygments_lexer": "ipython3",
   "version": "3.6.10"
  }
 },
 "nbformat": 4,
 "nbformat_minor": 4
}
