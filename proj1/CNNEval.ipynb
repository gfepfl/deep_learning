{
 "cells": [
  {
   "cell_type": "code",
   "execution_count": 4,
   "metadata": {},
   "outputs": [
    {
     "name": "stdout",
     "output_type": "stream",
     "text": [
      "The autoreload extension is already loaded. To reload it, use:\n",
      "  %reload_ext autoreload\n"
     ]
    }
   ],
   "source": [
    "import torch\n",
    "from torch import nn\n",
    "from torch.nn import functional as F\n",
    "from torch import optim\n",
    "from dlc_practical_prologue import *\n",
    "from projet1_helpers import *\n",
    "\n",
    "import CNN\n",
    "\n",
    "import matplotlib.pyplot as plt\n",
    "import numpy as np\n",
    "\n",
    "%load_ext autoreload\n",
    "%autoreload 2"
   ]
  },
  {
   "cell_type": "markdown",
   "metadata": {},
   "source": [
    "## CNN\n",
    "\n",
    "Use a simple convolutional neural network whose architecture is similar to the classical LeNet. "
   ]
  },
  {
   "cell_type": "code",
   "execution_count": 28,
   "metadata": {},
   "outputs": [
    {
     "name": "stdout",
     "output_type": "stream",
     "text": [
      "--------------------------------------------------  \n",
      " Iteration 0 \n",
      " \n",
      "Training accuracy is 1.0 \n",
      "Test accuracy is 0.782 \n",
      "--------------------------------------------------  \n",
      " Iteration 1 \n",
      " \n",
      "Training accuracy is 1.0 \n",
      "Test accuracy is 0.798 \n",
      "--------------------------------------------------  \n",
      " Iteration 2 \n",
      " \n",
      "Training accuracy is 1.0 \n",
      "Test accuracy is 0.816 \n",
      "--------------------------------------------------  \n",
      " Iteration 3 \n",
      " \n",
      "Training accuracy is 1.0 \n",
      "Test accuracy is 0.838 \n",
      "--------------------------------------------------  \n",
      " Iteration 4 \n",
      " \n",
      "Training accuracy is 1.0 \n",
      "Test accuracy is 0.84 \n",
      "--------------------------------------------------  \n",
      " Iteration 5 \n",
      " \n",
      "Training accuracy is 1.0 \n",
      "Test accuracy is 0.782 \n",
      "--------------------------------------------------  \n",
      " Iteration 6 \n",
      " \n",
      "Training accuracy is 1.0 \n",
      "Test accuracy is 0.834 \n",
      "--------------------------------------------------  \n",
      " Iteration 7 \n",
      " \n",
      "Training accuracy is 1.0 \n",
      "Test accuracy is 0.802 \n",
      "--------------------------------------------------  \n",
      " Iteration 8 \n",
      " \n",
      "Training accuracy is 1.0 \n",
      "Test accuracy is 0.828 \n",
      "--------------------------------------------------  \n",
      " Iteration 9 \n",
      " \n",
      "Training accuracy is 1.0 \n",
      "Test accuracy is 0.788 \n",
      "--------------------------------------------------  \n",
      " Iteration 10 \n",
      " \n",
      "Training accuracy is 1.0 \n",
      "Test accuracy is 0.79 \n",
      "--------------------------------------------------  \n",
      " Iteration 11 \n",
      " \n",
      "Training accuracy is 1.0 \n",
      "Test accuracy is 0.846 \n",
      "--------------------------------------------------  \n",
      " Iteration 12 \n",
      " \n",
      "Training accuracy is 1.0 \n",
      "Test accuracy is 0.812 \n",
      "--------------------------------------------------  \n",
      " Iteration 13 \n",
      " \n",
      "Training accuracy is 1.0 \n",
      "Test accuracy is 0.82 \n",
      "--------------------------------------------------  \n",
      " Iteration 14 \n",
      " \n",
      "Training accuracy is 1.0 \n",
      "Test accuracy is 0.784 \n"
     ]
    }
   ],
   "source": [
    "torch.manual_seed(42)\n",
    "niter = 15\n",
    "nround = 25\n",
    "all_classified = []\n",
    "misclassified = []\n",
    "accuracies_train = []\n",
    "accuracies_test = []\n",
    "accuracies_val = []\n",
    "losses_train = np.zeros((niter,nround))\n",
    "losses_val = np.zeros((niter,nround))\n",
    "mini_batch_size = 100\n",
    "for i in range(niter):\n",
    "    print(\"-\"*50,f\" \\n Iteration {i} \\n \")\n",
    "    # Generate the pairs\n",
    "    train_input, train_target, train_classes, test_input, test_target, test_classes = load_data(1000)\n",
    "    \n",
    "    # Split test into test and val\n",
    "    val_input = test_input[:500]\n",
    "    test_input = test_input[500:]\n",
    "    val_target = test_target[:500]\n",
    "    test_target = test_target[500:]\n",
    "    \n",
    "    # define the model\n",
    "    model = CNN.CNN() \n",
    "\n",
    "    # train model\n",
    "    for k in range(nround):\n",
    "        losses_train[i,k] = CNN.train(model.train(), train_input, train_target, mini_batch_size )\n",
    "        losses_val[i,k] = CNN.get_loss_val(model.eval(),val_input,val_target)\n",
    "    train_accuracy = CNN.accuracy(model(train_input),train_target)\n",
    "    test_accuracy = CNN.accuracy(model(test_input),test_target)\n",
    "    val_accuracy = CNN.accuracy(model(val_input),val_target)\n",
    "    \n",
    "    misclass = CNN.get_mis_class(model,val_input,val_target,test_classes[:500])\n",
    "    [all_classified.append(x) for x in test_classes[:500]]\n",
    "    [misclassified.append(x) for x in misclass ]\n",
    "    accuracies_train.append(train_accuracy )\n",
    "    accuracies_test.append(test_accuracy )\n",
    "    accuracies_val.append(val_accuracy )\n",
    "    print(f\"Training accuracy is {train_accuracy} \")\n",
    "    print(f\"Test accuracy is {test_accuracy} \")"
   ]
  },
  {
   "cell_type": "code",
   "execution_count": 44,
   "metadata": {},
   "outputs": [
    {
     "data": {
      "image/png": "[encoded data removed]",
      "text/plain": [
       "<Figure size 432x288 with 1 Axes>"
      ]
     },
     "metadata": {
      "needs_background": "light"
     },
     "output_type": "display_data"
    }
   ],
   "source": [
    "plt.figure()\n",
    "plotloss((losses_train/(train_input.size(0)/mini_batch_size)).T,color= 'b')\n",
    "plotloss(losses_val.T,color= 'c')\n",
    "plt.show()"
   ]
  },
  {
   "cell_type": "markdown",
   "metadata": {},
   "source": [
    "### Evaluation of model performance"
   ]
  },
  {
   "cell_type": "code",
   "execution_count": 31,
   "metadata": {},
   "outputs": [
    {
     "name": "stdout",
     "output_type": "stream",
     "text": [
      "The training accuracy of the model is 1.0000 ± 0.0000 \n"
     ]
    }
   ],
   "source": [
    "accs_train = torch.Tensor(accuracies_train)\n",
    "print(f\"The training accuracy of the model is {accs_train.mean():.4f} ± {accs_train.var():.4f} \")"
   ]
  },
  {
   "cell_type": "code",
   "execution_count": 32,
   "metadata": {},
   "outputs": [
    {
     "name": "stdout",
     "output_type": "stream",
     "text": [
      "The test accuracy of the model is 0.8092 ± 0.0002 \n"
     ]
    }
   ],
   "source": [
    "accs_val = torch.Tensor(accuracies_val)\n",
    "print(f\"The test accuracy of the model is {accs_val.mean():.4f} ± {accs_val.var():.4f} \")"
   ]
  },
  {
   "cell_type": "code",
   "execution_count": 33,
   "metadata": {},
   "outputs": [
    {
     "name": "stdout",
     "output_type": "stream",
     "text": [
      "The test accuracy of the model is 0.8107 ± 0.0005 \n"
     ]
    }
   ],
   "source": [
    "accs_test = torch.Tensor(accuracies_test)\n",
    "print(f\"The test accuracy of the model is {accs_test.mean():.4f} ± {accs_test.var():.4f} \")"
   ]
  },
  {
   "cell_type": "code",
   "execution_count": 34,
   "metadata": {},
   "outputs": [
    {
     "data": {
      "image/png": "[encoded data removed]",
      "text/plain": [
       "<Figure size 576x576 with 1 Axes>"
      ]
     },
     "metadata": {
      "needs_background": "light"
     },
     "output_type": "display_data"
    }
   ],
   "source": [
    "plot_performance(accuracies_train,accuracies_test)"
   ]
  },
  {
   "cell_type": "code",
   "execution_count": 45,
   "metadata": {},
   "outputs": [
    {
     "data": {
      "image/png": "[encoded data removed]",
      "text/plain": [
       "<Figure size 432x288 with 2 Axes>"
      ]
     },
     "metadata": {
      "needs_background": "light"
     },
     "output_type": "display_data"
    }
   ],
   "source": [
    "all_classified = np.stack(all_classified)\n",
    "misclassified = np.stack(misclassified)\n",
    "plot_heatmap(misclassified,all_classified)"
   ]
  },
  {
   "cell_type": "code",
   "execution_count": null,
   "metadata": {},
   "outputs": [],
   "source": []
  }
 ],
 "metadata": {
  "kernelspec": {
   "display_name": "Python 3",
   "language": "python",
   "name": "python3"
  },
  "language_info": {
   "codemirror_mode": {
    "name": "ipython",
    "version": 3
   },
   "file_extension": ".py",
   "mimetype": "text/x-python",
   "name": "python",
   "nbconvert_exporter": "python",
   "pygments_lexer": "ipython3",
   "version": "3.6.10"
  }
 },
 "nbformat": 4,
 "nbformat_minor": 4
}
