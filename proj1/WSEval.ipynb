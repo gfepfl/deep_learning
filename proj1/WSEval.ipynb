{
 "cells": [
  {
   "cell_type": "code",
   "execution_count": 37,
   "metadata": {},
   "outputs": [
    {
     "name": "stdout",
     "output_type": "stream",
     "text": [
      "The autoreload extension is already loaded. To reload it, use:\n",
      "  %reload_ext autoreload\n"
     ]
    }
   ],
   "source": [
    "import torch\n",
    "from torch import nn\n",
    "from torch.nn import functional as F\n",
    "from torch import optim\n",
    "from dlc_practical_prologue import *\n",
    "from projet1_helpers import *\n",
    "import weight_sharing\n",
    "\n",
    "%load_ext autoreload\n",
    "%autoreload 2\n",
    "\n",
    "# for plotting\n",
    "import numpy as np"
   ]
  },
  {
   "cell_type": "code",
   "execution_count": 168,
   "metadata": {},
   "outputs": [],
   "source": [
    "import seaborn as sns\n",
    "sns.set()"
   ]
  },
  {
   "cell_type": "markdown",
   "metadata": {},
   "source": [
    "> 0 if first > second else 1"
   ]
  },
  {
   "cell_type": "markdown",
   "metadata": {},
   "source": [
    "## Weight Sharing"
   ]
  },
  {
   "cell_type": "markdown",
   "metadata": {},
   "source": [
    "Use simamiese newtwork and weight sharing for prediction. The Network predicts a single digit per image and we compare the image by subtracting the second by the first and taking the sigmoid of the result. The loss is then computed on this value. TODO: add the comparaison in the convnet, look at what is the most misclassified"
   ]
  },
  {
   "cell_type": "code",
   "execution_count": 66,
   "metadata": {},
   "outputs": [],
   "source": [
    "def get_mis_class(model,input_,target,classes):\n",
    "    preds = model(input_).round() == target\n",
    "    misclassified = classes[~preds]\n",
    "    return misclassified.tolist()"
   ]
  },
  {
   "cell_type": "code",
   "execution_count": 156,
   "metadata": {},
   "outputs": [
    {
     "name": "stdout",
     "output_type": "stream",
     "text": [
      "--------------------------------------------------  \n",
      " Iteration 0 \n",
      " \n",
      "Baseline Training accuracy is 0.953 \n",
      "Baseline Test accuracy is 0.816 \n",
      "--------------------------------------------------  \n",
      " Iteration 1 \n",
      " \n",
      "Baseline Training accuracy is 0.963 \n",
      "Baseline Test accuracy is 0.823 \n",
      "--------------------------------------------------  \n",
      " Iteration 2 \n",
      " \n",
      "Baseline Training accuracy is 0.97 \n",
      "Baseline Test accuracy is 0.84 \n",
      "--------------------------------------------------  \n",
      " Iteration 3 \n",
      " \n",
      "Baseline Training accuracy is 0.962 \n",
      "Baseline Test accuracy is 0.84 \n",
      "--------------------------------------------------  \n",
      " Iteration 4 \n",
      " \n",
      "Baseline Training accuracy is 0.961 \n",
      "Baseline Test accuracy is 0.815 \n",
      "--------------------------------------------------  \n",
      " Iteration 5 \n",
      " \n",
      "Baseline Training accuracy is 0.972 \n",
      "Baseline Test accuracy is 0.835 \n",
      "--------------------------------------------------  \n",
      " Iteration 6 \n",
      " \n",
      "Baseline Training accuracy is 0.944 \n",
      "Baseline Test accuracy is 0.819 \n",
      "--------------------------------------------------  \n",
      " Iteration 7 \n",
      " \n",
      "Baseline Training accuracy is 0.958 \n",
      "Baseline Test accuracy is 0.825 \n",
      "--------------------------------------------------  \n",
      " Iteration 8 \n",
      " \n",
      "Baseline Training accuracy is 0.974 \n",
      "Baseline Test accuracy is 0.837 \n",
      "--------------------------------------------------  \n",
      " Iteration 9 \n",
      " \n",
      "Baseline Training accuracy is 0.97 \n",
      "Baseline Test accuracy is 0.836 \n",
      "--------------------------------------------------  \n",
      " Iteration 10 \n",
      " \n",
      "Baseline Training accuracy is 0.963 \n",
      "Baseline Test accuracy is 0.828 \n",
      "--------------------------------------------------  \n",
      " Iteration 11 \n",
      " \n",
      "Baseline Training accuracy is 0.954 \n",
      "Baseline Test accuracy is 0.845 \n",
      "--------------------------------------------------  \n",
      " Iteration 12 \n",
      " \n",
      "Baseline Training accuracy is 0.952 \n",
      "Baseline Test accuracy is 0.839 \n",
      "--------------------------------------------------  \n",
      " Iteration 13 \n",
      " \n",
      "Baseline Training accuracy is 0.969 \n",
      "Baseline Test accuracy is 0.822 \n",
      "--------------------------------------------------  \n",
      " Iteration 14 \n",
      " \n",
      "Baseline Training accuracy is 0.964 \n",
      "Baseline Test accuracy is 0.833 \n"
     ]
    }
   ],
   "source": [
    "all_classified = []\n",
    "misclassified = []\n",
    "accuracies_train = []\n",
    "accuracies_test = []\n",
    "mini_batch_size = 100\n",
    "for i in range(15):\n",
    "    print(\"-\"*50,f\" \\n Iteration {i} \\n \")\n",
    "    # Generate the pairs\n",
    "    train_input, train_target, train_classes, test_input, test_target, test_classes = generate_pair_sets(1000)\n",
    "    \n",
    "    # define the model\n",
    "    model =  weight_sharing.LeNetLike() \n",
    "    \n",
    "    # train model\n",
    "    for k in range(20):\n",
    "        WS.train(model, train_input, train_target.float(), mini_batch_size)\n",
    "\n",
    "    train_accuracy = weight_sharing.accuracy(model,train_input,train_target)\n",
    "    test_accuracy = weight_sharing.accuracy(model,test_input,test_target)\n",
    "    \n",
    "    misclass = get_mis_class(model,test_input,test_target,test_classes)\n",
    "    [all_classified.append(x) for x in test_classes]\n",
    "    [misclassified.append(x) for x in misclass ]\n",
    "    accuracies_train.append(train_accuracy )\n",
    "    accuracies_test.append(test_accuracy )\n",
    "    print(f\"Baseline Training accuracy is {train_accuracy} \")\n",
    "    print(f\"Baseline Test accuracy is {test_accuracy} \")"
   ]
  },
  {
   "cell_type": "markdown",
   "metadata": {},
   "source": [
    "### Evaluation of model performance"
   ]
  },
  {
   "cell_type": "code",
   "execution_count": 157,
   "metadata": {},
   "outputs": [
    {
     "name": "stdout",
     "output_type": "stream",
     "text": [
      "The training accuracy of the model is 0.9619 ± 0.0001 \n"
     ]
    }
   ],
   "source": [
    "accs_train = torch.Tensor(accuracies_train)\n",
    "print(f\"The training accuracy of the model is {accs_train.mean():.4f} ± {accs_train.var():.4f} \")"
   ]
  },
  {
   "cell_type": "code",
   "execution_count": 158,
   "metadata": {},
   "outputs": [
    {
     "name": "stdout",
     "output_type": "stream",
     "text": [
      "The test accuracy of the model is 0.8302 ± 0.0001 \n"
     ]
    }
   ],
   "source": [
    "accs_test = torch.Tensor(accuracies_test)\n",
    "print(f\"The test accuracy of the model is {accs_test.mean():.4f} ± {accs_test.var():.4f} \")"
   ]
  },
  {
   "cell_type": "code",
   "execution_count": 186,
   "metadata": {},
   "outputs": [
    {
     "data": {
      "image/png": "[encoded data removed]",
      "text/plain": [
       "<Figure size 576x576 with 1 Axes>"
      ]
     },
     "metadata": {},
     "output_type": "display_data"
    }
   ],
   "source": [
    "plot_performance(accuracies_train,accuracies_test)"
   ]
  },
  {
   "cell_type": "code",
   "execution_count": 180,
   "metadata": {},
   "outputs": [
    {
     "data": {
      "image/png": "[encoded data removed]",
      "text/plain": [
       "<Figure size 432x288 with 2 Axes>"
      ]
     },
     "metadata": {},
     "output_type": "display_data"
    }
   ],
   "source": [
    "all_classified = np.stack(all_classified)\n",
    "misclassified = np.stack(misclassified)\n",
    "plot_heatmap(misclassified,all_classified)"
   ]
  },
  {
   "cell_type": "code",
   "execution_count": null,
   "metadata": {},
   "outputs": [],
   "source": []
  }
 ],
 "metadata": {
  "kernelspec": {
   "display_name": "Python 3",
   "language": "python",
   "name": "python3"
  },
  "language_info": {
   "codemirror_mode": {
    "name": "ipython",
    "version": 3
   },
   "file_extension": ".py",
   "mimetype": "text/x-python",
   "name": "python",
   "nbconvert_exporter": "python",
   "pygments_lexer": "ipython3",
   "version": "3.6.10"
  }
 },
 "nbformat": 4,
 "nbformat_minor": 4
}
