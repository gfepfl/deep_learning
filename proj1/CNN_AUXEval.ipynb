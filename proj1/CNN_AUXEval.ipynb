{
 "cells": [
  {
   "cell_type": "code",
   "execution_count": 1,
   "metadata": {},
   "outputs": [
    {
     "name": "stderr",
     "output_type": "stream",
     "text": [
      "/Users/marcglettig/.local/lib/python3.7/site-packages/matplotlib/__init__.py:886: MatplotlibDeprecationWarning: \n",
      "examples.directory is deprecated; in the future, examples will be found relative to the 'datapath' directory.\n",
      "  \"found relative to the 'datapath' directory.\".format(key))\n"
     ]
    }
   ],
   "source": [
    "import torch\n",
    "import pickle\n",
    "from torch import nn\n",
    "from torch.nn import functional as F\n",
    "from torch import optim\n",
    "from dlc_practical_prologue import *\n",
    "from projet1_helpers import *\n",
    "import seaborn as sns\n",
    "sns.set()\n",
    "import CNN_AUX as CNNaux\n",
    "\n",
    "import matplotlib.pyplot as plt\n",
    "import numpy as np\n",
    "\n",
    "%load_ext autoreload\n",
    "%autoreload 2\n"
   ]
  },
  {
   "cell_type": "markdown",
   "metadata": {},
   "source": [
    "## CNN Aux\n",
    "\n",
    "Use a siamese network with weight sharing and an additional loss to emphasize number recognition."
   ]
  },
  {
   "cell_type": "code",
   "execution_count": 2,
   "metadata": {},
   "outputs": [],
   "source": [
    "with open(f'data.p', 'rb') as f:\n",
    "    train_input, train_target, train_classes,val_input,test_input,val_target,test_target,val_classes,test_classes = pickle.load(f)"
   ]
  },
  {
   "cell_type": "code",
   "execution_count": null,
   "metadata": {},
   "outputs": [
    {
     "name": "stdout",
     "output_type": "stream",
     "text": [
      "--------------------------------------------------  \n",
      " Iteration 0 \n",
      " \n",
      "Training accuracy is 0.858 \n",
      "Validation accuracy is 0.818 \n",
      "--------------------------------------------------  \n",
      " Iteration 1 \n",
      " \n",
      "Training accuracy is 0.863 \n",
      "Validation accuracy is 0.826 \n",
      "--------------------------------------------------  \n",
      " Iteration 2 \n",
      " \n",
      "Training accuracy is 0.843 \n",
      "Validation accuracy is 0.82 \n",
      "--------------------------------------------------  \n",
      " Iteration 3 \n",
      " \n",
      "Training accuracy is 0.879 \n",
      "Validation accuracy is 0.82 \n",
      "--------------------------------------------------  \n",
      " Iteration 4 \n",
      " \n",
      "Training accuracy is 0.842 \n",
      "Validation accuracy is 0.772 \n",
      "--------------------------------------------------  \n",
      " Iteration 5 \n",
      " \n",
      "Training accuracy is 0.83 \n",
      "Validation accuracy is 0.778 \n",
      "--------------------------------------------------  \n",
      " Iteration 6 \n",
      " \n",
      "Training accuracy is 0.837 \n",
      "Validation accuracy is 0.782 \n",
      "--------------------------------------------------  \n",
      " Iteration 7 \n",
      " \n",
      "Training accuracy is 0.838 \n",
      "Validation accuracy is 0.826 \n",
      "--------------------------------------------------  \n",
      " Iteration 8 \n",
      " \n",
      "Training accuracy is 0.859 \n",
      "Validation accuracy is 0.802 \n",
      "--------------------------------------------------  \n",
      " Iteration 9 \n",
      " \n"
     ]
    }
   ],
   "source": [
    "torch.manual_seed(42)\n",
    "losses, losses_val, aux_losses, val_aux_losses,accuracies_train, accuracies_test, accuracies_val, all_classified, misclassified  = (\n",
    "    CNNaux.train_all(train_input, train_target, train_classes,val_input, val_target, val_classes, test_input, \n",
    "                 test_target, test_classes,nb_epochs=25))"
   ]
  },
  {
   "cell_type": "code",
   "execution_count": null,
   "metadata": {},
   "outputs": [],
   "source": [
    "mini_batch_size = 100\n",
    "plt.figure()\n",
    "plotloss((losses/(train_input.size(0)/mini_batch_size)).T,color= 'b')\n",
    "#plotloss(losses_val.T,color= 'c')\n",
    "plotloss(aux_losses.T/(train_input.size(0)/mini_batch_size),color= 'g')\n",
    "#plotloss(val_aux_losses.T, color='r')\n",
    "plt.legend(['Train Loss', 'Train auxiliary Loss'])\n",
    "\n",
    "plt.show()"
   ]
  },
  {
   "cell_type": "code",
   "execution_count": null,
   "metadata": {},
   "outputs": [],
   "source": [
    "accs_train = torch.Tensor(accuracies_train)\n",
    "print(f\"The training accuracy of the model is {accs_train.mean():.4f} ± {accs_train.var():.4f} \")"
   ]
  },
  {
   "cell_type": "code",
   "execution_count": null,
   "metadata": {},
   "outputs": [],
   "source": [
    "accs_val = torch.Tensor(accuracies_val)\n",
    "print(f\"The test accuracy of the model is {accs_val.mean():.4f} ± {accs_val.var():.4f} \")"
   ]
  },
  {
   "cell_type": "code",
   "execution_count": null,
   "metadata": {},
   "outputs": [],
   "source": [
    "accs_test = torch.Tensor(accuracies_test)\n",
    "print(f\"The test accuracy of the model is {accs_test.mean():.4f} ± {accs_test.var():.4f} \")"
   ]
  },
  {
   "cell_type": "code",
   "execution_count": null,
   "metadata": {},
   "outputs": [],
   "source": [
    "plot_performance(accuracies_train,accuracies_test)"
   ]
  },
  {
   "cell_type": "code",
   "execution_count": null,
   "metadata": {},
   "outputs": [],
   "source": [
    "all_classified = np.stack(all_classified)\n",
    "misclassified = np.stack(misclassified)\n",
    "heat_map = plot_heatmap(misclassified,all_classified)"
   ]
  },
  {
   "cell_type": "code",
   "execution_count": null,
   "metadata": {},
   "outputs": [],
   "source": [
    "import pickle\n",
    "with open(f'produced/CNN_WS_AUX_accuracy.p', 'wb') as f:\n",
    "    pickle.dump(accuracies_test ,f)"
   ]
  },
  {
   "cell_type": "code",
   "execution_count": null,
   "metadata": {},
   "outputs": [],
   "source": [
    "with open(f'produced/CNN_WS_AUX_heatmap.p', 'wb') as f:\n",
    "    pickle.dump(heat_map ,f)"
   ]
  },
  {
   "cell_type": "code",
   "execution_count": null,
   "metadata": {},
   "outputs": [],
   "source": []
  }
 ],
 "metadata": {
  "kernelspec": {
   "display_name": "Python 3",
   "language": "python",
   "name": "python3"
  },
  "language_info": {
   "codemirror_mode": {
    "name": "ipython",
    "version": 3
   },
   "file_extension": ".py",
   "mimetype": "text/x-python",
   "name": "python",
   "nbconvert_exporter": "python",
   "pygments_lexer": "ipython3",
   "version": "3.7.5"
  },
  "pycharm": {
   "stem_cell": {
    "cell_type": "raw",
    "metadata": {
     "collapsed": false
    },
    "source": []
   }
  }
 },
 "nbformat": 4,
 "nbformat_minor": 1
}
