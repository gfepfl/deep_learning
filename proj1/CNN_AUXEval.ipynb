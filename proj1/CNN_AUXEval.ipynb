{
 "cells": [
  {
   "cell_type": "code",
   "execution_count": 73,
   "metadata": {},
   "outputs": [
    {
     "name": "stdout",
     "output_type": "stream",
     "text": [
      "The autoreload extension is already loaded. To reload it, use:\n",
      "  %reload_ext autoreload\n"
     ]
    }
   ],
   "source": [
    "import torch\n",
    "import pickle\n",
    "from torch import nn\n",
    "from torch.nn import functional as F\n",
    "from torch import optim\n",
    "from dlc_practical_prologue import *\n",
    "from projet1_helpers import *\n",
    "import seaborn as sns\n",
    "sns.set()\n",
    "import CNN_AUX as CNNaux\n",
    "\n",
    "import matplotlib.pyplot as plt\n",
    "import numpy as np\n",
    "\n",
    "%load_ext autoreload\n",
    "%autoreload 2\n"
   ]
  },
  {
   "cell_type": "markdown",
   "metadata": {},
   "source": [
    "## CNN Aux\n",
    "\n",
    "Use a siamese network with weight sharing and an additional loss to emphasize number recognition."
   ]
  },
  {
   "cell_type": "code",
   "execution_count": 56,
   "metadata": {},
   "outputs": [],
   "source": [
    "with open(f'data.p', 'rb') as f:\n",
    "    train_input, train_target, train_classes,val_input,test_input,val_target,test_target,val_classes,test_classes = pickle.load(f)"
   ]
  },
  {
   "cell_type": "code",
   "execution_count": 67,
   "metadata": {},
   "outputs": [
    {
     "name": "stdout",
     "output_type": "stream",
     "text": [
      "--------------------------------------------------  \n",
      " Iteration 0 \n",
      " \n",
      "Training accuracy is 0.976 \n",
      "Validation accuracy is 0.91 \n",
      "--------------------------------------------------  \n",
      " Iteration 1 \n",
      " \n",
      "Training accuracy is 0.97 \n",
      "Validation accuracy is 0.932 \n",
      "--------------------------------------------------  \n",
      " Iteration 2 \n",
      " \n",
      "Training accuracy is 0.963 \n",
      "Validation accuracy is 0.918 \n",
      "--------------------------------------------------  \n",
      " Iteration 3 \n",
      " \n",
      "Training accuracy is 0.963 \n",
      "Validation accuracy is 0.932 \n",
      "--------------------------------------------------  \n",
      " Iteration 4 \n",
      " \n",
      "Training accuracy is 0.984 \n",
      "Validation accuracy is 0.952 \n",
      "--------------------------------------------------  \n",
      " Iteration 5 \n",
      " \n",
      "Training accuracy is 0.984 \n",
      "Validation accuracy is 0.942 \n",
      "--------------------------------------------------  \n",
      " Iteration 6 \n",
      " \n",
      "Training accuracy is 0.972 \n",
      "Validation accuracy is 0.932 \n",
      "--------------------------------------------------  \n",
      " Iteration 7 \n",
      " \n",
      "Training accuracy is 0.97 \n",
      "Validation accuracy is 0.928 \n",
      "--------------------------------------------------  \n",
      " Iteration 8 \n",
      " \n",
      "Training accuracy is 0.976 \n",
      "Validation accuracy is 0.932 \n",
      "--------------------------------------------------  \n",
      " Iteration 9 \n",
      " \n",
      "Training accuracy is 0.957 \n",
      "Validation accuracy is 0.926 \n",
      "--------------------------------------------------  \n",
      " Iteration 10 \n",
      " \n",
      "Training accuracy is 0.972 \n",
      "Validation accuracy is 0.962 \n",
      "--------------------------------------------------  \n",
      " Iteration 11 \n",
      " \n",
      "Training accuracy is 0.956 \n",
      "Validation accuracy is 0.912 \n",
      "--------------------------------------------------  \n",
      " Iteration 12 \n",
      " \n",
      "Training accuracy is 0.967 \n",
      "Validation accuracy is 0.926 \n",
      "--------------------------------------------------  \n",
      " Iteration 13 \n",
      " \n",
      "Training accuracy is 0.973 \n",
      "Validation accuracy is 0.922 \n",
      "--------------------------------------------------  \n",
      " Iteration 14 \n",
      " \n",
      "Training accuracy is 0.982 \n",
      "Validation accuracy is 0.928 \n",
      "64092\n"
     ]
    }
   ],
   "source": [
    "torch.manual_seed(42)\n",
    "losses, losses_val, aux_losses, val_aux_losses,accuracies_train, accuracies_test, accuracies_val, all_classified, misclassified  = (\n",
    "    CNNaux.train_all(train_input, train_target, train_classes,val_input, val_target, val_classes, test_input, \n",
    "                 test_target, test_classes,nb_epochs=100))"
   ]
  },
  {
   "cell_type": "code",
   "execution_count": null,
   "metadata": {},
   "outputs": [],
   "source": [
    "mini_batch_size = 100\n",
    "plt.figure()\n",
    "plotloss((losses/(train_input.size(0)/mini_batch_size)).T,color= 'b')\n",
    "plotloss(losses_val.T,color= 'c')\n",
    "#plotloss(aux_losses.T/(train_input.size(0)/mini_batch_size),color= 'g')\n",
    "#plotloss(val_aux_losses.T, color='r')\n",
    "\n",
    "plt.show()"
   ]
  },
  {
   "cell_type": "code",
   "execution_count": 59,
   "metadata": {},
   "outputs": [
    {
     "name": "stdout",
     "output_type": "stream",
     "text": [
      "The training accuracy of the model is 0.9713 ± 0.0000 \n"
     ]
    }
   ],
   "source": [
    "accs_train = torch.Tensor(accuracies_train)\n",
    "print(f\"The training accuracy of the model is {accs_train.mean():.4f} ± {accs_train.var():.4f} \")"
   ]
  },
  {
   "cell_type": "code",
   "execution_count": 60,
   "metadata": {},
   "outputs": [
    {
     "name": "stdout",
     "output_type": "stream",
     "text": [
      "The test accuracy of the model is 0.9136 ± 0.0001 \n"
     ]
    }
   ],
   "source": [
    "accs_val = torch.Tensor(accuracies_val)\n",
    "print(f\"The test accuracy of the model is {accs_val.mean():.4f} ± {accs_val.var():.4f} \")"
   ]
  },
  {
   "cell_type": "code",
   "execution_count": 61,
   "metadata": {},
   "outputs": [
    {
     "name": "stdout",
     "output_type": "stream",
     "text": [
      "The test accuracy of the model is 0.9099 ± 0.0001 \n"
     ]
    }
   ],
   "source": [
    "accs_test = torch.Tensor(accuracies_test)\n",
    "print(f\"The test accuracy of the model is {accs_test.mean():.4f} ± {accs_test.var():.4f} \")"
   ]
  },
  {
   "cell_type": "code",
   "execution_count": 62,
   "metadata": {},
   "outputs": [
    {
     "data": {
      "image/png": "[encoded data removed]",
      "text/plain": [
       "<Figure size 576x576 with 1 Axes>"
      ]
     },
     "metadata": {
      "needs_background": "light"
     },
     "output_type": "display_data"
    }
   ],
   "source": [
    "plot_performance(accuracies_train,accuracies_test)"
   ]
  },
  {
   "cell_type": "code",
   "execution_count": 74,
   "metadata": {},
   "outputs": [
    {
     "data": {
      "image/png": "[encoded data removed]",
      "text/plain": [
       "<Figure size 432x288 with 2 Axes>"
      ]
     },
     "metadata": {},
     "output_type": "display_data"
    }
   ],
   "source": [
    "all_classified = np.stack(all_classified)\n",
    "misclassified = np.stack(misclassified)\n",
    "heat_map = plot_heatmap(misclassified,all_classified)"
   ]
  },
  {
   "cell_type": "code",
   "execution_count": 64,
   "metadata": {},
   "outputs": [],
   "source": [
    "import pickle\n",
    "with open(f'produced/CNN_WS_AUX_accuracy.p', 'wb') as f:\n",
    "    pickle.dump(accuracies_test ,f)"
   ]
  },
  {
   "cell_type": "code",
   "execution_count": 65,
   "metadata": {},
   "outputs": [],
   "source": [
    "with open(f'produced/CNN_WS_AUX_heatmap.p', 'wb') as f:\n",
    "    pickle.dump(heat_map ,f)"
   ]
  },
  {
   "cell_type": "code",
   "execution_count": null,
   "metadata": {},
   "outputs": [],
   "source": []
  }
 ],
 "metadata": {
  "kernelspec": {
   "display_name": "Python 3",
   "language": "python",
   "name": "python3"
  },
  "language_info": {
   "codemirror_mode": {
    "name": "ipython",
    "version": 3
   },
   "file_extension": ".py",
   "mimetype": "text/x-python",
   "name": "python",
   "nbconvert_exporter": "python",
   "pygments_lexer": "ipython3",
   "version": "3.7.5"
  },
  "pycharm": {
   "stem_cell": {
    "cell_type": "raw",
    "metadata": {
     "collapsed": false
    },
    "source": []
   }
  }
 },
 "nbformat": 4,
 "nbformat_minor": 1
}
